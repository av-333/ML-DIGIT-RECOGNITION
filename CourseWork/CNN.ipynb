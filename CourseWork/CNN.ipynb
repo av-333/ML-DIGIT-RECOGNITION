{
  "cells": [
    {
      "cell_type": "markdown",
      "metadata": {
        "id": "iAKLb0hlX7yw"
      },
      "source": [
        "#               Building a Classification Model Using Tensorflow"
      ]
    },
    {
      "cell_type": "markdown",
      "metadata": {
        "id": "eZsi1fA5X7y0"
      },
      "source": [
        "Importing the Libraries"
      ]
    },
    {
      "cell_type": "code",
      "execution_count": 1,
      "metadata": {
        "id": "sY81w6o0X7y1"
      },
      "outputs": [],
      "source": [
        "import tensorflow as tf\n",
        "import matplotlib.pyplot as plt\n",
        "import time\n",
        "import numpy as np"
      ]
    },
    {
      "cell_type": "code",
      "source": [
        "import random\n",
        "seed=123\n",
        "random.seed(seed)\n",
        "np.random.seed(seed)\n",
        "tf.random.set_seed(seed)"
      ],
      "metadata": {
        "id": "nDewO9668Rkq"
      },
      "execution_count": 2,
      "outputs": []
    },
    {
      "cell_type": "markdown",
      "metadata": {
        "id": "5jQPjuIGX7y3"
      },
      "source": [
        "Importing/ loading the dataset"
      ]
    },
    {
      "cell_type": "code",
      "execution_count": 3,
      "metadata": {
        "id": "5H9Bg6k4X7y3",
        "colab": {
          "base_uri": "https://localhost:8080/"
        },
        "outputId": "0f7c4589-92a2-4082-8232-6007ae773c45"
      },
      "outputs": [
        {
          "output_type": "stream",
          "name": "stdout",
          "text": [
            "Downloading data from https://storage.googleapis.com/tensorflow/tf-keras-datasets/mnist.npz\n",
            "11490434/11490434 [==============================] - 2s 0us/step\n"
          ]
        }
      ],
      "source": [
        "mnist = tf.keras.datasets.mnist\n",
        "(x_train, y_train), (x_test, y_test) = mnist.load_data()"
      ]
    },
    {
      "cell_type": "markdown",
      "metadata": {
        "id": "vEtiTjWuX7y4"
      },
      "source": [
        "Normalizing the data"
      ]
    },
    {
      "cell_type": "code",
      "execution_count": 4,
      "metadata": {
        "id": "M-Z23QWVX7y4"
      },
      "outputs": [],
      "source": [
        "x_train = tf.keras.utils.normalize(x_train, axis = 1)\n",
        "x_test = tf.keras.utils.normalize(x_test, axis = 1)\n"
      ]
    },
    {
      "cell_type": "markdown",
      "metadata": {
        "id": "wiJlMi7TX7y5"
      },
      "source": [
        "Visualizing the data"
      ]
    },
    {
      "cell_type": "code",
      "execution_count": 5,
      "metadata": {
        "colab": {
          "base_uri": "https://localhost:8080/",
          "height": 448
        },
        "id": "x0mi31ZyX7y5",
        "outputId": "12cbb09a-e9c6-4dfa-935f-e881771e2dd3"
      },
      "outputs": [
        {
          "output_type": "stream",
          "name": "stdout",
          "text": [
            "The number is: 1\n"
          ]
        },
        {
          "output_type": "display_data",
          "data": {
            "text/plain": [
              "<Figure size 640x480 with 1 Axes>"
            ],
            "image/png": "[encoded data removed]"
          },
          "metadata": {}
        }
      ],
      "source": [
        "image_index = 7185 # Can select anything up to 59999\n",
        "print('The number is:',y_train[image_index]) \n",
        "plt.imshow(x_train[image_index], cmap='Greys')\n",
        "plt.show()"
      ]
    },
    {
      "cell_type": "markdown",
      "metadata": {
        "id": "0efWrZTkX7y6"
      },
      "source": [
        "Shape of the dataset"
      ]
    },
    {
      "cell_type": "code",
      "execution_count": 6,
      "metadata": {
        "colab": {
          "base_uri": "https://localhost:8080/"
        },
        "id": "SkcVNKXiX7y6",
        "outputId": "644afafe-9032-4eec-a160-d6184d7318cb"
      },
      "outputs": [
        {
          "output_type": "stream",
          "name": "stdout",
          "text": [
            "(60000, 28, 28)\n",
            "(10000, 28, 28)\n",
            "(60000,)\n",
            "(10000,)\n"
          ]
        }
      ],
      "source": [
        "print(x_train.shape)\n",
        "print(x_test.shape)\n",
        "print(y_train.shape)\n",
        "print(y_test.shape)"
      ]
    },
    {
      "cell_type": "code",
      "execution_count": 7,
      "metadata": {
        "colab": {
          "base_uri": "https://localhost:8080/"
        },
        "id": "PjNG7fuJX7y6",
        "outputId": "106daa21-881b-47e4-bef5-6790d06f49bd"
      },
      "outputs": [
        {
          "output_type": "stream",
          "name": "stdout",
          "text": [
            "Number of images in x_train: 60000\n",
            "Number of images in x_test: 10000\n"
          ]
        }
      ],
      "source": [
        "print('Number of images in x_train:', x_train.shape[0])\n",
        "print('Number of images in x_test:', x_test.shape[0])"
      ]
    },
    {
      "cell_type": "markdown",
      "metadata": {
        "id": "laxsvo8SX7y7"
      },
      "source": [
        "Defining a model"
      ]
    },
    {
      "cell_type": "code",
      "execution_count": 8,
      "metadata": {
        "colab": {
          "base_uri": "https://localhost:8080/"
        },
        "id": "M2khRE0eX7y7",
        "outputId": "1ee569ba-a551-4d93-9025-904ec7dea57a"
      },
      "outputs": [
        {
          "output_type": "stream",
          "name": "stdout",
          "text": [
            "(60000, 28, 28, 1)\n",
            "Model: \"sequential\"\n",
            "_________________________________________________________________\n",
            " Layer (type)                Output Shape              Param #   \n",
            "=================================================================\n",
            " conv2d (Conv2D)             (None, 26, 26, 64)        640       \n",
            "                                                                 \n",
            " max_pooling2d (MaxPooling2D  (None, 13, 13, 64)       0         \n",
            " )                                                               \n",
            "                                                                 \n",
            " flatten (Flatten)           (None, 10816)             0         \n",
            "                                                                 \n",
            " dense (Dense)               (None, 128)               1384576   \n",
            "                                                                 \n",
            " dense_1 (Dense)             (None, 10)                1290      \n",
            "                                                                 \n",
            "=================================================================\n",
            "Total params: 1,386,506\n",
            "Trainable params: 1,386,506\n",
            "Non-trainable params: 0\n",
            "_________________________________________________________________\n"
          ]
        }
      ],
      "source": [
        "x_train = x_train.reshape(x_train.shape[0], 28, 28, 1)\n",
        "x_test = x_test.reshape(x_test.shape[0], 28, 28, 1)\n",
        "print(x_train.shape)\n",
        "input_shape = (28, 28, 1)\n",
        "model = tf.keras.models.Sequential()\n",
        "model.add(tf.keras.layers.Conv2D(64, kernel_size=(3,3), input_shape=input_shape))\n",
        "model.add(tf.keras.layers.MaxPooling2D(pool_size=(2, 2)))\n",
        "model.add(tf.keras.layers.Flatten()) # Flattening the 2D arrays for fully connected layers\n",
        "model.add(tf.keras.layers.Dense(128, activation=tf.nn.relu))\n",
        "#model.add(tf.keras.layers.Dropout(0.2))\n",
        "model.add(tf.keras.layers.Dense(10,activation=tf.nn.softmax))\n",
        "model.summary()"
      ]
    },
    {
      "cell_type": "markdown",
      "metadata": {
        "id": "7rxBq3pxX7y7"
      },
      "source": [
        "Compiling a model"
      ]
    },
    {
      "cell_type": "code",
      "execution_count": 9,
      "metadata": {
        "id": "UEtVWCFbX7y8"
      },
      "outputs": [],
      "source": [
        "model.compile(optimizer = 'adam', loss = 'sparse_categorical_crossentropy', metrics = ['accuracy'])"
      ]
    },
    {
      "cell_type": "code",
      "execution_count": 10,
      "metadata": {
        "id": "VbMex_50X7y8"
      },
      "outputs": [],
      "source": [
        "#model.compile(loss=[ 'sparse_categorical_crossentropy'],\n",
        "#              optimizer=tf.keras.optimizers.RMSprop(lr=0.0001, decay = 0.00001),\n",
        "#              metrics=['acc'])"
      ]
    },
    {
      "cell_type": "markdown",
      "metadata": {
        "id": "TObwpxZKX7y8"
      },
      "source": [
        "Training the model"
      ]
    },
    {
      "cell_type": "code",
      "execution_count": 19,
      "metadata": {
        "colab": {
          "base_uri": "https://localhost:8080/"
        },
        "id": "o8G_Z9PWX7y9",
        "outputId": "93016998-ca6d-4854-9bb3-1657746a75b6"
      },
      "outputs": [
        {
          "output_type": "stream",
          "name": "stdout",
          "text": [
            "Epoch 1/20\n",
            "118/118 [==============================] - 1s 9ms/step - loss: 0.0100 - accuracy: 0.9976\n",
            "Epoch 2/20\n",
            "118/118 [==============================] - 1s 9ms/step - loss: 0.0085 - accuracy: 0.9982\n",
            "Epoch 3/20\n",
            "118/118 [==============================] - 1s 10ms/step - loss: 0.0062 - accuracy: 0.9989\n",
            "Epoch 4/20\n",
            "118/118 [==============================] - 1s 9ms/step - loss: 0.0045 - accuracy: 0.9995\n",
            "Epoch 5/20\n",
            "118/118 [==============================] - 1s 8ms/step - loss: 0.0033 - accuracy: 0.9997\n",
            "Epoch 6/20\n",
            "118/118 [==============================] - 1s 8ms/step - loss: 0.0027 - accuracy: 0.9999\n",
            "Epoch 7/20\n",
            "118/118 [==============================] - 1s 8ms/step - loss: 0.0020 - accuracy: 0.9999\n",
            "Epoch 8/20\n",
            "118/118 [==============================] - 1s 9ms/step - loss: 0.0017 - accuracy: 1.0000\n",
            "Epoch 9/20\n",
            "118/118 [==============================] - 1s 8ms/step - loss: 0.0015 - accuracy: 1.0000\n",
            "Epoch 10/20\n",
            "118/118 [==============================] - 1s 8ms/step - loss: 0.0012 - accuracy: 1.0000\n",
            "Epoch 11/20\n",
            "118/118 [==============================] - 1s 8ms/step - loss: 0.0010 - accuracy: 1.0000\n",
            "Epoch 12/20\n",
            "118/118 [==============================] - 1s 8ms/step - loss: 8.5983e-04 - accuracy: 1.0000\n",
            "Epoch 13/20\n",
            "118/118 [==============================] - 1s 8ms/step - loss: 7.4487e-04 - accuracy: 1.0000\n",
            "Epoch 14/20\n",
            "118/118 [==============================] - 1s 9ms/step - loss: 6.6607e-04 - accuracy: 1.0000\n",
            "Epoch 15/20\n",
            "118/118 [==============================] - 1s 9ms/step - loss: 8.4478e-04 - accuracy: 1.0000\n",
            "Epoch 16/20\n",
            "118/118 [==============================] - 1s 9ms/step - loss: 6.0737e-04 - accuracy: 1.0000\n",
            "Epoch 17/20\n",
            "118/118 [==============================] - 1s 8ms/step - loss: 0.0043 - accuracy: 0.9988\n",
            "Epoch 18/20\n",
            "118/118 [==============================] - 1s 9ms/step - loss: 0.0238 - accuracy: 0.9922\n",
            "Epoch 19/20\n",
            "118/118 [==============================] - 1s 9ms/step - loss: 0.0106 - accuracy: 0.9965\n",
            "Epoch 20/20\n",
            "118/118 [==============================] - 1s 8ms/step - loss: 0.0031 - accuracy: 0.9993\n",
            "Training time in seconds: 21.091397047042847\n"
          ]
        }
      ],
      "source": [
        "t=time.time()\n",
        "epochs = 20\n",
        "history = model.fit(x_train, y_train, batch_size=512, epochs =epochs)\n",
        "print('Training time in seconds: %s' % -(t - time.time()))"
      ]
    },
    {
      "cell_type": "markdown",
      "metadata": {
        "id": "0jxjTmZHX7y9"
      },
      "source": [
        "Plotting the training data"
      ]
    },
    {
      "cell_type": "code",
      "execution_count": 12,
      "metadata": {
        "colab": {
          "base_uri": "https://localhost:8080/",
          "height": 523
        },
        "id": "IiWeNcvRX7y9",
        "outputId": "5d542a76-cd34-4e33-9b6b-e5d7409f40c2"
      },
      "outputs": [
        {
          "output_type": "display_data",
          "data": {
            "text/plain": [
              "<Figure size 1600x600 with 1 Axes>"
            ],
            "image/png": "[encoded data removed]"
          },
          "metadata": {}
        }
      ],
      "source": [
        "plt.figure(figsize=(16,6))\n",
        "plt.plot(history.history['loss'])\n",
        "plt.plot(history.history['accuracy'])\n",
        "#plt.xscale('linear')\n",
        "plt.xticks(np.arange(0, epochs, 1.0))\n",
        "plt.legend(['loss', 'accuracy'], loc='upper right')\n",
        "plt.grid(True)\n",
        "#plt.savefig('f1.png', bbox_inches='tight')\n",
        "plt.show()"
      ]
    },
    {
      "cell_type": "code",
      "execution_count": 20,
      "metadata": {
        "colab": {
          "base_uri": "https://localhost:8080/"
        },
        "id": "pDk4QF9sX7y9",
        "outputId": "6cd92a00-cbde-4818-c947-c27842904a07"
      },
      "outputs": [
        {
          "output_type": "stream",
          "name": "stdout",
          "text": [
            "mean accuracy: 0.9990266680717468\n"
          ]
        }
      ],
      "source": [
        "print(\"mean accuracy:\", np.mean(history.history['accuracy']))"
      ]
    },
    {
      "cell_type": "markdown",
      "metadata": {
        "id": "87EMEzCjX7y-"
      },
      "source": [
        "Evaluating the trained model"
      ]
    },
    {
      "cell_type": "markdown",
      "source": [],
      "metadata": {
        "id": "BIXqAEE9tMtF"
      }
    },
    {
      "cell_type": "code",
      "execution_count": 14,
      "metadata": {
        "colab": {
          "base_uri": "https://localhost:8080/"
        },
        "id": "6zqRcVyOX7y-",
        "outputId": "dcbd84ee-c7c5-40e4-e356-1f78dd365d22"
      },
      "outputs": [
        {
          "output_type": "stream",
          "name": "stdout",
          "text": [
            "313/313 [==============================] - 1s 3ms/step - loss: 0.1058 - accuracy: 0.9682\n",
            "Validation loss: 0.10580981522798538\n",
            "Validation accuracy: 0.9682000279426575\n"
          ]
        }
      ],
      "source": [
        "val_loss, val_acc = model.evaluate(x_test, y_test)\n",
        "print('Validation loss:',val_loss)\n",
        "print('Validation accuracy:',val_acc)"
      ]
    },
    {
      "cell_type": "markdown",
      "metadata": {
        "id": "S8uGcMZ2X7y-"
      },
      "source": [
        " Image classification using the built model/Testing"
      ]
    },
    {
      "cell_type": "code",
      "execution_count": 16,
      "metadata": {
        "colab": {
          "base_uri": "https://localhost:8080/",
          "height": 484
        },
        "id": "-R6K0MetX7y-",
        "outputId": "38da1608-5312-4a7a-bf65-c57d74969655"
      },
      "outputs": [
        {
          "output_type": "stream",
          "name": "stdout",
          "text": [
            "Actual is: 9\n",
            "1/1 [==============================] - 0s 17ms/step\n",
            "Predicted is: 9\n"
          ]
        },
        {
          "output_type": "display_data",
          "data": {
            "text/plain": [
              "<Figure size 640x480 with 1 Axes>"
            ],
            "image/png": "[encoded data removed]"
          },
          "metadata": {}
        }
      ],
      "source": [
        "image_index = 5001\n",
        "print('Actual is:',y_test[image_index])\n",
        "plt.imshow(x_test[image_index].reshape(28, 28),cmap='Greys')\n",
        "pred = model.predict(x_test[image_index].reshape(1, 28, 28, 1))\n",
        "print('Predicted is:',pred.argmax())"
      ]
    }
  ],
  "metadata": {
    "kernelspec": {
      "display_name": "Python 3",
      "language": "python",
      "name": "python3"
    },
    "language_info": {
      "codemirror_mode": {
        "name": "ipython",
        "version": 3
      },
      "file_extension": ".py",
      "mimetype": "text/x-python",
      "name": "python",
      "nbconvert_exporter": "python",
      "pygments_lexer": "ipython3",
      "version": "3.5.5"
    },
    "colab": {
      "provenance": [],
      "gpuType": "T4"
    },
    "accelerator": "GPU",
    "gpuClass": "standard"
  },
  "nbformat": 4,
  "nbformat_minor": 0
}